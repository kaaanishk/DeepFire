{
  "nbformat": 4,
  "nbformat_minor": 0,
  "metadata": {
    "colab": {
      "name": "deepfire_demo.ipynb",
      "version": "0.3.2",
      "provenance": [],
      "toc_visible": true,
      "include_colab_link": true
    },
    "kernelspec": {
      "name": "python3",
      "display_name": "Python 3"
    }
  },
  "cells": [
    {
      "cell_type": "markdown",
      "metadata": {
        "id": "view-in-github",
        "colab_type": "text"
      },
      "source": [
        "<a href=\"https://colab.research.google.com/github/kaaanishk/deepfire/blob/master/deepfire_demo.ipynb\" target=\"_parent\"><img src=\"https://colab.research.google.com/assets/colab-badge.svg\" alt=\"Open In Colab\"/></a>"
      ]
    },
    {
      "cell_type": "markdown",
      "metadata": {
        "id": "83xl-prxomPe",
        "colab_type": "text"
      },
      "source": [
        "# DeepFire\n",
        "\n",
        "\n",
        "---\n",
        "\n",
        "新しい歌詞の生成を開始するには、上のメニューバーにある**Runtime > Run All**を選択します。\n",
        "すべてのアーティストの新しい歌詞が生成されるまで、数秒待ちます。\n",
        "\n",
        "1. Kanye West\n",
        "\n",
        "\n",
        "\n",
        "If you're interested in how we made this project, you can check out our [Medium article](https://) and [Github Repository](https://github.com/kaaanishk/Deepfire).\n",
        "\n",
        "\n"
      ]
    },
    {
      "cell_type": "code",
      "metadata": {
        "id": "l2iN5VxznusB",
        "colab_type": "code",
        "colab": {
          "base_uri": "https://localhost:8080/",
          "height": 136
        },
        "outputId": "8bf9f1db-a3b5-4c2d-de1b-3dbd1390b95c"
      },
      "source": [
        "!git clone https://github.com/sklan/deepfire"
      ],
      "execution_count": 1,
      "outputs": [
        {
          "output_type": "stream",
          "text": [
            "Cloning into 'deepfire'...\n",
            "remote: Enumerating objects: 219, done.\u001b[K\n",
            "remote: Counting objects: 100% (219/219), done.\u001b[K\n",
            "remote: Compressing objects: 100% (174/174), done.\u001b[K\n",
            "remote: Total 219 (delta 48), reused 174 (delta 21), pack-reused 0\u001b[K\n",
            "Receiving objects: 100% (219/219), 2.40 MiB | 7.16 MiB/s, done.\n",
            "Resolving deltas: 100% (48/48), done.\n"
          ],
          "name": "stdout"
        }
      ]
    },
    {
      "cell_type": "code",
      "metadata": {
        "id": "tBjg4CJIn1pn",
        "colab_type": "code",
        "colab": {
          "base_uri": "https://localhost:8080/",
          "height": 411
        },
        "outputId": "b2506839-ac59-4dc0-a9e2-691dacd05039"
      },
      "source": [
        "!pip install markovify\n",
        "!pip install pronouncing"
      ],
      "execution_count": 2,
      "outputs": [
        {
          "output_type": "stream",
          "text": [
            "Collecting markovify\n",
            "  Downloading https://files.pythonhosted.org/packages/94/b2/b4ce1e461bb3482b1fd63328a2097aed5917cdfa0dbfe9492a84ea46e2ab/markovify-0.7.1.tar.gz\n",
            "Collecting unidecode (from markovify)\n",
            "\u001b[?25l  Downloading https://files.pythonhosted.org/packages/31/39/53096f9217b057cb049fe872b7fc7ce799a1a89b76cf917d9639e7a558b5/Unidecode-1.0.23-py2.py3-none-any.whl (237kB)\n",
            "\u001b[K     |████████████████████████████████| 245kB 7.5MB/s \n",
            "\u001b[?25hBuilding wheels for collected packages: markovify\n",
            "  Building wheel for markovify (setup.py) ... \u001b[?25l\u001b[?25hdone\n",
            "  Stored in directory: /root/.cache/pip/wheels/66/fe/5b/07257dd2401d9835447a0f0223f967c998c153404d32612253\n",
            "Successfully built markovify\n",
            "Installing collected packages: unidecode, markovify\n",
            "Successfully installed markovify-0.7.1 unidecode-1.0.23\n",
            "Collecting pronouncing\n",
            "  Downloading https://files.pythonhosted.org/packages/7f/c6/9dc74a3ddca71c492e224116b6654592bfe5717b4a78582e4d9c3345d153/pronouncing-0.2.0.tar.gz\n",
            "Collecting cmudict>=0.4.0 (from pronouncing)\n",
            "\u001b[?25l  Downloading https://files.pythonhosted.org/packages/42/bc/606843d7cfe4d82f5a21fc46d1ae8e364ac20c57e68d1ec4190bce4f2734/cmudict-0.4.2-py2.py3-none-any.whl (938kB)\n",
            "\u001b[K     |████████████████████████████████| 942kB 7.6MB/s \n",
            "\u001b[?25hBuilding wheels for collected packages: pronouncing\n",
            "  Building wheel for pronouncing (setup.py) ... \u001b[?25l\u001b[?25hdone\n",
            "  Stored in directory: /root/.cache/pip/wheels/81/fd/e8/fb1a226f707c7e20dbed4c43f81b819d279ffd3b0e2f06ee13\n",
            "Successfully built pronouncing\n",
            "Installing collected packages: cmudict, pronouncing\n",
            "Successfully installed cmudict-0.4.2 pronouncing-0.2.0\n"
          ],
          "name": "stdout"
        }
      ]
    },
    {
      "cell_type": "code",
      "metadata": {
        "id": "QJKvvzK6t99e",
        "colab_type": "code",
        "colab": {
          "base_uri": "https://localhost:8080/",
          "height": 34
        },
        "outputId": "253229f7-63bd-4ada-ca6a-c242818c73ad"
      },
      "source": [
        "%cd deepfire"
      ],
      "execution_count": 3,
      "outputs": [
        {
          "output_type": "stream",
          "text": [
            "/content/deepfire\n"
          ],
          "name": "stdout"
        }
      ]
    },
    {
      "cell_type": "code",
      "metadata": {
        "id": "sVydnHAIpO14",
        "colab_type": "code",
        "colab": {
          "base_uri": "https://localhost:8080/",
          "height": 1941
        },
        "outputId": "1938cd68-02bd-4853-b040-d6b1f76162be"
      },
      "source": [
        "!python display.py --data_path /content/deepfire/data/ --artist kanye"
      ],
      "execution_count": 6,
      "outputs": [
        {
          "output_type": "stream",
          "text": [
            "Using TensorFlow backend.\n",
            "WARNING:tensorflow:From /usr/local/lib/python3.6/dist-packages/tensorflow/python/framework/op_def_library.py:263: colocate_with (from tensorflow.python.framework.ops) is deprecated and will be removed in a future version.\n",
            "Instructions for updating:\n",
            "Colocations handled automatically by placer.\n",
            "2019-05-11 12:22:34.343835: I tensorflow/core/platform/profile_utils/cpu_utils.cc:94] CPU Frequency: 2300000000 Hz\n",
            "2019-05-11 12:22:34.344089: I tensorflow/compiler/xla/service/service.cc:150] XLA service 0x2075020 executing computations on platform Host. Devices:\n",
            "2019-05-11 12:22:34.344128: I tensorflow/compiler/xla/service/service.cc:158]   StreamExecutor device (0): <undefined>, <undefined>\n",
            "\n",
            "\n",
            "Generating unique rap lyrics for kanye \n",
            "-------------------------------------------\n",
            "Call him Kwa-li or Kwe-li, I put you on that coke diet\n",
            "How I'm suppose to smile, get it hot\n",
            "Like a porn star, I'm a freak or not\n",
            "Like when I was a Jeremy Scott?\n",
            "Never in your pocket right now if you follow the charts\n",
            "I can't doctor, and you deserve the princess cuts\n",
            "And we about to take t-o, smits some cutie\n",
            "After I got a silicone booty!\n",
            "I got a vacuum mouth\n",
            "Outta this world, let me know if you in my life's breath\n",
            "Cause even if he say she wanna move South\n",
            "You wouldn't wanna lose half of what I overate\n",
            "Pink slip on my life I guess that's a soundbite\n",
            "She ain't pregnant but about to go in debt\n",
            "We ain't retards, the way that you fear, but you're way to get weight\n",
            "Break out the door, I'm about yet\n",
            "So many records in my bed late\n",
            "Nigga please, how you can go from being a strobe light\n",
            "You tried to be a blessing, right?\n",
            "I'm a jerk, you need you to wait\n",
            "Why my pants sag off? Cause I'm from where we first met?\n",
            "This here a classic night\n",
            "If I walk up to date\n",
            "Some girls'll make you high I can catch the beat\n",
            "Uh, they better watch what they got for us to eat\n",
            "W-H-I-T-E, it's getting too tight\n",
            "Every agent I know, know I gotta get\n",
            "And you mix that with a baby by Busta\n",
            "You don't see how it feel like Atlanta\n",
            "She in school and got pregnant dumb fast\n",
            "And look, tell me when I see the test?\n",
            "Am I shallow cuz all my lies the whole cast\n",
            "I know who you are not invited to the guest list\n",
            "In this white man get past\n",
            "He knows, he's so impressed\n",
            "He flew you in front of the glass\n",
            "Please keep it going, keep the door cause they degrade us\n",
            "You say you got that dumb ass\n",
            "But they can't tell who made this\n",
            "You was the late great Mr. Christohper Wallace\n",
            "Oh, we gotta have J.E. sing at the top of our class\n",
            "We'll buy a business\n",
            "They call me a rock star, girls call me Mr. Glass?\n",
            "Six thousand dollar tee with no cash\n",
            "Tryna get to get Kanye fresh\n",
            "This is a rush\n",
            "Yeah it's all on your grave, I'll piss on your toes?\n",
            "Trick that on a chain, man, that don't mean to impose\n",
            "I'm glad I ain't no expert, I'm just talking that nonsense\n",
            "Come and meet me in the Klan but I got the Jesus on a crash course\n",
            "This finna be raising your voice at me like Don C just had a frew brews\n",
            "I would like to go crazy\n",
            "Don't get me in your spouse got another spouse\n",
            "Uh, Mr. West is in the store just froze\n",
            "You know what's a black man with confidence of a masterpiece\n",
            "You don't want nobody to fuck your Hampton house\n",
            "Used to hit that ass in reverse\n",
            "A trunk full of hoes?\n",
            "I feel no one to ten, what do you respond to students?\n",
            "Grab your remote, for the forefathers, yeah, the street authors\n",
            "So this is my Olympics\n",
            "Back when they askin questions\n",
            "When you stop the Black Panthers?\n",
            "I learned the hard floor\n",
            "So if he wasn't talking about how blacks came from glory\n",
            "State you're looking for the wheelchair\n",
            "How do you take me for\n",
            "You an addict you go there, it's hoes there\n",
            "I learned the hard way, that ain't okay no more\n",
            "Fuck ya'll niggas I'm out of school seems so secure\n",
            "I don't need to put us on camera\n",
            "This nigga graduated at the top of this new era\n",
            "But when I knew she was brought up\n",
            "And I still got the worst rep\n",
            "If not, treat your friends and my two step\n",
            "Last week I was the shit out anyway, I hope\n",
            "I know I got my superman cape\n",
            "I know that you need that wet mouth\n",
            "You local retard, I'm the King Jr\n",
            "We can go from being a strobe light\n",
            "I will turn you to wait\n",
            "Now its gon be a blessing, right?\n",
            "And you thought they'd call me by my bed late\n",
            "I couldn't figure out what I'm about yet\n",
            "Hands up, we just pray like the promised land of the night, another night\n",
            "Whatever comes second I'll be back together in a coupe\n",
            "What the, what the cops shot us\n",
            "I knew y'all made plans I wouldn't rap like this\n",
            "I'm trippin', this drink got me feeling so upper class\n",
            "By the way in Hollywood\n",
            "And I heard she got cramps, I'm gone get you jewelry from the hood\n",
            "And from that point I never understood planned parenthood\n",
            "They say because of the tracks I done lost and made money\n",
            "But he just be extra funny\n",
            "That mean I might even flash cash\n",
            "And you can feel my pain\n",
            "And I went to the screen, maybe get seen\n",
            "It's what happens she ain't got no fucking phone\n",
            "I know they type, I know that Linda was a drama queen\n",
            "And guess when I couldn't hear him all the years and the nights alone\n",
            "\n"
          ],
          "name": "stdout"
        }
      ]
    }
  ]
}